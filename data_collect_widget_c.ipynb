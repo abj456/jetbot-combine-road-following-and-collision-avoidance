{
 "cells": [
  {
   "cell_type": "code",
   "execution_count": 1,
   "metadata": {
    "scrolled": true
   },
   "outputs": [
    {
     "data": {
      "application/vnd.jupyter.widget-view+json": {
       "model_id": "02ca71c8bea940ce9e3a51d50be8349c",
       "version_major": 2,
       "version_minor": 0
      },
      "text/plain": [
       "Image(value=b'\\xff\\xd8\\xff\\xe0\\x00\\x10JFIF\\x00\\x01\\x01\\x00\\x00\\x01\\x00\\x01\\x00\\x00\\xff\\xdb\\x00C\\x00\\x02\\x01\\x0…"
      ]
     },
     "metadata": {},
     "output_type": "display_data"
    }
   ],
   "source": [
    "import traitlets\n",
    "import ipywidgets.widgets as widgets\n",
    "from IPython.display import display\n",
    "from jetbot import Camera, bgr8_to_jpeg, Robot\n",
    "import glob\n",
    "import datetime\n",
    "import numpy as np\n",
    "import cv2\n",
    "import time\n",
    "\n",
    "camera = Camera.instance(width=224, height=224)\n",
    "\n",
    "image = widgets.Image(format='jpeg', width=224, height=224)  # this width and height doesn't necessarily have to match the camera\n",
    "\n",
    "camera_link = traitlets.dlink((camera, 'value'), (image, 'value'), transform=bgr8_to_jpeg)\n",
    "\n",
    "display(image)"
   ]
  },
  {
   "cell_type": "code",
   "execution_count": 2,
   "metadata": {},
   "outputs": [
    {
     "name": "stdout",
     "output_type": "stream",
     "text": [
      "Directories not created becasue they already exist\n"
     ]
    }
   ],
   "source": [
    "import os\n",
    "\n",
    "blocked_r_dir = 'dataset/blocked_r'\n",
    "blocked_l_dir = 'dataset/blocked_l'\n",
    "free_dir = 'dataset/free'\n",
    "\n",
    "# we have this \"try/except\" statement because these next functions can throw an error if the directories exist already\n",
    "try:\n",
    "    os.makedirs(free_dir)\n",
    "    os.makedirs(blocked_r_dir)\n",
    "    os.makedirs(blocked_l_dir)\n",
    "except FileExistsError:\n",
    "    print('Directories not created becasue they already exist')"
   ]
  },
  {
   "cell_type": "code",
   "execution_count": 3,
   "metadata": {},
   "outputs": [
    {
     "data": {
      "application/vnd.jupyter.widget-view+json": {
       "model_id": "df74fa9c91f9479db4a12719889571c3",
       "version_major": 2,
       "version_minor": 0
      },
      "text/plain": [
       "HBox(children=(VBox(children=(HBox(children=(IntText(value=194, layout=Layout(height='64px', width='128px')), …"
      ]
     },
     "metadata": {},
     "output_type": "display_data"
    }
   ],
   "source": [
    "button_layout = widgets.Layout(width='128px', height='64px')\n",
    "free_button = widgets.Button(description='add free', button_style='success', layout=button_layout)\n",
    "blocked_r_button = widgets.Button(description='add blocked_r', button_style='danger', layout=button_layout)\n",
    "blocked_l_button = widgets.Button(description='add blocked_l', button_style='danger', layout=button_layout)\n",
    "free_count = widgets.IntText(layout=button_layout, value=len(os.listdir(free_dir)))\n",
    "blocked_r_count = widgets.IntText(layout=button_layout, value=len(os.listdir(blocked_r_dir)))\n",
    "blocked_l_count = widgets.IntText(layout=button_layout, value=len(os.listdir(blocked_l_dir)))\n",
    "\n",
    "###CONTROL BUTTON LAYOUT###\n",
    "button_layout_ctrl = widgets.Layout(width='100px', height='80px', align_self='center')\n",
    "stop_button = widgets.Button(description='stop', button_style='danger', layout=button_layout_ctrl)\n",
    "forward_button = widgets.Button(description='forward', layout=button_layout_ctrl)\n",
    "backward_button = widgets.Button(description='backward', layout=button_layout_ctrl)\n",
    "left_button = widgets.Button(description='left', layout=button_layout_ctrl)\n",
    "right_button = widgets.Button(description='right', layout=button_layout_ctrl)\n",
    "\n",
    "middle_box = widgets.HBox([left_button, stop_button, right_button], layout=widgets.Layout(align_self='center'))\n",
    "controls_box = widgets.VBox([forward_button, middle_box, backward_button])\n",
    "free_box = widgets.HBox([free_count, free_button])\n",
    "block_r_box = widgets.HBox([blocked_r_count, blocked_r_button])\n",
    "block_l_box = widgets.HBox([blocked_l_count, blocked_l_button])\n",
    "fb_box = widgets.VBox([free_box, block_r_box, block_l_box])\n",
    "\n",
    "display(widgets.HBox([fb_box, controls_box]))"
   ]
  },
  {
   "cell_type": "code",
   "execution_count": 4,
   "metadata": {},
   "outputs": [],
   "source": [
    "from uuid import uuid1\n",
    "\n",
    "def save_snapshot(directory):\n",
    "    image_path = os.path.join(directory, str(uuid1()) + '.jpg')\n",
    "    with open(image_path, 'wb') as f:\n",
    "        f.write(image.value)\n",
    "\n",
    "def save_free():\n",
    "    global free_dir, free_count\n",
    "    save_snapshot(free_dir)\n",
    "    free_count.value = len(os.listdir(free_dir))\n",
    "    \n",
    "def save_blocked_r():\n",
    "    global blocked_r_dir, blocked_r_count\n",
    "    save_snapshot(blocked_r_dir)\n",
    "    blocked_r_count.value = len(os.listdir(blocked_r_dir))\n",
    "\n",
    "def save_blocked_l():\n",
    "    global blocked_l_dir, blocked_l_count\n",
    "    save_snapshot(blocked_l_dir)\n",
    "    blocked_l_count.value = len(os.listdir(blocked_l_dir))\n",
    "    \n",
    "###CONTROL BUTTON FUNCTION###\n",
    "robot = Robot()\n",
    "motor_speed_ratio = 0.3\n",
    "time_interval = 0.1\n",
    "\n",
    "def stop(change):\n",
    "    robot.stop()\n",
    "\n",
    "def step_forward(change):\n",
    "    robot.forward(motor_speed_ratio)\n",
    "    time.sleep(time_interval)\n",
    "    robot.stop()\n",
    "    \n",
    "def step_backward(change):\n",
    "    robot.backward(motor_speed_ratio)\n",
    "    time.sleep(time_interval)\n",
    "    robot.stop()\n",
    "    \n",
    "def step_left(change):\n",
    "    robot.left(motor_speed_ratio)\n",
    "    time.sleep(time_interval)\n",
    "    robot.stop()\n",
    "\n",
    "def step_right(change):\n",
    "    robot.right(motor_speed_ratio)\n",
    "    time.sleep(time_interval)\n",
    "    robot.stop()\n",
    "    \n",
    "# attach the callbacks, we use a 'lambda' function to ignore the\n",
    "# parameter that the on_click event would provide to our function\n",
    "# because we don't need it.\n",
    "free_button.on_click(lambda x: save_free())\n",
    "blocked_r_button.on_click(lambda x: save_blocked_r())\n",
    "blocked_l_button.on_click(lambda x: save_blocked_l())\n",
    "\n",
    "####LINK BUTTONS TO ACTIONS####\n",
    "stop_button.on_click(stop)\n",
    "forward_button.on_click(step_forward)\n",
    "backward_button.on_click(step_backward)\n",
    "left_button.on_click(step_left)\n",
    "right_button.on_click(step_right)"
   ]
  },
  {
   "cell_type": "code",
   "execution_count": 5,
   "metadata": {},
   "outputs": [
    {
     "data": {
      "application/vnd.jupyter.widget-view+json": {
       "model_id": "02ca71c8bea940ce9e3a51d50be8349c",
       "version_major": 2,
       "version_minor": 0
      },
      "text/plain": [
       "Image(value=b'\\xff\\xd8\\xff\\xe0\\x00\\x10JFIF\\x00\\x01\\x01\\x00\\x00\\x01\\x00\\x01\\x00\\x00\\xff\\xdb\\x00C\\x00\\x02\\x01\\x0…"
      ]
     },
     "metadata": {},
     "output_type": "display_data"
    },
    {
     "data": {
      "application/vnd.jupyter.widget-view+json": {
       "model_id": "222d53e5211b4c22b8d8055ba65582f1",
       "version_major": 2,
       "version_minor": 0
      },
      "text/plain": [
       "HBox(children=(VBox(children=(HBox(children=(IntText(value=194, layout=Layout(height='64px', width='128px')), …"
      ]
     },
     "metadata": {},
     "output_type": "display_data"
    }
   ],
   "source": [
    "display(image)\n",
    "display(widgets.HBox([fb_box, controls_box]))"
   ]
  },
  {
   "cell_type": "code",
   "execution_count": null,
   "metadata": {},
   "outputs": [],
   "source": []
  }
 ],
 "metadata": {
  "kernelspec": {
   "display_name": "Python 3",
   "language": "python",
   "name": "python3"
  },
  "language_info": {
   "codemirror_mode": {
    "name": "ipython",
    "version": 3
   },
   "file_extension": ".py",
   "mimetype": "text/x-python",
   "name": "python",
   "nbconvert_exporter": "python",
   "pygments_lexer": "ipython3",
   "version": "3.6.9"
  }
 },
 "nbformat": 4,
 "nbformat_minor": 4
}
